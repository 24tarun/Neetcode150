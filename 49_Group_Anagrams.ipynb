{
  "nbformat": 4,
  "nbformat_minor": 0,
  "metadata": {
    "colab": {
      "provenance": [],
      "authorship_tag": "ABX9TyP4WWF9zS/7gMbNrWx5Q9JU",
      "include_colab_link": true
    },
    "kernelspec": {
      "name": "python3",
      "display_name": "Python 3"
    },
    "language_info": {
      "name": "python"
    }
  },
  "cells": [
    {
      "cell_type": "markdown",
      "metadata": {
        "id": "view-in-github",
        "colab_type": "text"
      },
      "source": [
        "<a href=\"https://colab.research.google.com/github/24tarun/Neetcode150/blob/main/49_Group_Anagrams.ipynb\" target=\"_parent\"><img src=\"https://colab.research.google.com/assets/colab-badge.svg\" alt=\"Open In Colab\"/></a>"
      ]
    },
    {
      "cell_type": "code",
      "execution_count": null,
      "metadata": {
        "id": "CIrSPp6uEZek"
      },
      "outputs": [],
      "source": [
        "class Solution:\n",
        "    def groupAnagrams(self, strs: List[str]) -> List[List[str]]:\n",
        "        res={}\n",
        "        for word in strs:\n",
        "            temp=''.join(sorted(word))\n",
        "            if temp not in res:\n",
        "                res[temp]=[word]\n",
        "            else:\n",
        "                res[temp].append(word)\n",
        "        return res.values()"
      ]
    }
  ]
}