{
  "nbformat": 4,
  "nbformat_minor": 0,
  "metadata": {
    "colab": {
      "provenance": [],
      "authorship_tag": "ABX9TyPBBVl4bA8TImiyMGOML/ZO",
      "include_colab_link": true
    },
    "kernelspec": {
      "name": "python3",
      "display_name": "Python 3"
    },
    "language_info": {
      "name": "python"
    }
  },
  "cells": [
    {
      "cell_type": "markdown",
      "metadata": {
        "id": "view-in-github",
        "colab_type": "text"
      },
      "source": [
        "<a href=\"https://colab.research.google.com/github/24tarun/Neetcode150/blob/main/242_Valid_Anagram.ipynb\" target=\"_parent\"><img src=\"https://colab.research.google.com/assets/colab-badge.svg\" alt=\"Open In Colab\"/></a>"
      ]
    },
    {
      "cell_type": "code",
      "execution_count": null,
      "metadata": {
        "id": "EKTV0pLjyxd1"
      },
      "outputs": [],
      "source": [
        "class Solution:\n",
        "    def isAnagram(self, s: str, t: str) -> bool:\n",
        "\n",
        "        if len(s) !=len(t):\n",
        "            return False\n",
        "        s=''.join(sorted(s))\n",
        "        t=''.join(sorted(t))\n",
        "\n",
        "        for i in range(len(s)):\n",
        "            if s[i]!=t[i]:\n",
        "                return False\n",
        "        return True"
      ]
    }
  ]
}