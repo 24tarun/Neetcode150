{
  "nbformat": 4,
  "nbformat_minor": 0,
  "metadata": {
    "colab": {
      "provenance": [],
      "authorship_tag": "ABX9TyPf7fBbol6WHW+3epb2EJuY",
      "include_colab_link": true
    },
    "kernelspec": {
      "name": "python3",
      "display_name": "Python 3"
    },
    "language_info": {
      "name": "python"
    }
  },
  "cells": [
    {
      "cell_type": "markdown",
      "metadata": {
        "id": "view-in-github",
        "colab_type": "text"
      },
      "source": [
        "<a href=\"https://colab.research.google.com/github/24tarun/Neetcode150/blob/main/347_Top_K_Frequent_Elements.ipynb\" target=\"_parent\"><img src=\"https://colab.research.google.com/assets/colab-badge.svg\" alt=\"Open In Colab\"/></a>"
      ]
    },
    {
      "cell_type": "code",
      "execution_count": null,
      "metadata": {
        "id": "1B3ilTn4KOPz"
      },
      "outputs": [],
      "source": [
        "from collections import Counter\n",
        "class Solution:\n",
        "    def topKFrequent(self, nums: List[int], k: int) -> List[int]:\n",
        "        res={}\n",
        "        for i in nums:\n",
        "            if i not in res:\n",
        "                res[i]=1\n",
        "            else:\n",
        "                res[i]+=1\n",
        "        sorted_res = dict(sorted(res.items(), key=lambda x: x[1], reverse =True))\n",
        "        num=list(sorted_res.keys())\n",
        "        nums=[]\n",
        "        for i in range(k):\n",
        "           nums.append(num[i])\n",
        "        return nums\n"
      ]
    }
  ]
}